{
 "cells": [
  {
   "cell_type": "markdown",
   "metadata": {},
   "source": [
    "- 응용"
   ]
  },
  {
   "cell_type": "code",
   "execution_count": 1,
   "metadata": {},
   "outputs": [
    {
     "name": "stdout",
     "output_type": "stream",
     "text": [
      "['사나']\n",
      "['사나', '모모']\n",
      "['사나', '모모', '쯔의']\n",
      "['사나', '나연', '모모', '쯔의']\n",
      "['사나', '나연', '모모']\n",
      "['사나', '나연', '모모']\n"
     ]
    }
   ],
   "source": [
    "### 함수 선언부\n",
    "def add_data(friend):\n",
    "    katok.append(None)\n",
    "    kLen = len(katok)\n",
    "    katok[kLen-1] = friend\n",
    "\n",
    "def insert_data(position, friend):\n",
    "    katok.append(None)\n",
    "    kLen = len(katok)\n",
    "\n",
    "    for i in range(kLen-1, position, -1):\n",
    "        katok[i] = katok[i-1]\n",
    "        katok[i-1] = None\n",
    "\n",
    "    katok[position] = friend\n",
    "\n",
    "def delete_data(position):\n",
    "    kLen = len(katok)\n",
    "    katok[position] = None\n",
    "\n",
    "    for i in range(position+1, kLen, 1):\n",
    "        katok[i-1] = katok[i]\n",
    "        katok[i] = None\n",
    "\n",
    "    del(katok[kLen-1])\n",
    "\n",
    "\n",
    "\n",
    "### 전역 변수부\n",
    "katok = []\n",
    "select = -1\n",
    "\n",
    "\n",
    "### 메인 코드부\n",
    "while (select != 4):\n",
    "\n",
    "    select = int(input(\"선택하세요(1: 추가, 2: 삽입, 3: 삭제, 4: 종료)\"))\n",
    "\n",
    "    if select == 1:\n",
    "        data = input('추가할 데이터: ')\n",
    "        add_data(data)\n",
    "        print(katok)\n",
    "\n",
    "    elif select == 2:\n",
    "        pos = int(input('추가할 데이터 위치: '))\n",
    "        data = input('추가할 데이터: ')\n",
    "        insert_data(pos, data)\n",
    "        print(katok)\n",
    "\n",
    "    elif select == 3:\n",
    "        pos = int(input('삭제할 데이터 위치: '))\n",
    "        delete_data(pos)\n",
    "        print(katok)\n",
    "\n",
    "    elif select == 4:\n",
    "        print(katok)\n",
    "        exit\n",
    "    \n",
    "    else:\n",
    "        print(\"1~4까지의 숫자를 입력하세요.\")\n",
    "        continue"
   ]
  },
  {
   "cell_type": "code",
   "execution_count": null,
   "metadata": {},
   "outputs": [],
   "source": []
  }
 ],
 "metadata": {
  "interpreter": {
   "hash": "79235f3c426277640c9689d2572c47b913f40843195eeba115616b689febf123"
  },
  "kernelspec": {
   "display_name": "Python 3.9.7 ('kdig')",
   "language": "python",
   "name": "python3"
  },
  "language_info": {
   "codemirror_mode": {
    "name": "ipython",
    "version": 3
   },
   "file_extension": ".py",
   "mimetype": "text/x-python",
   "name": "python",
   "nbconvert_exporter": "python",
   "pygments_lexer": "ipython3",
   "version": "3.9.7"
  },
  "orig_nbformat": 4
 },
 "nbformat": 4,
 "nbformat_minor": 2
}
