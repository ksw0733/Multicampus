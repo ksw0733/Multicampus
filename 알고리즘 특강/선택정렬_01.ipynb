{
 "cells": [
  {
   "cell_type": "code",
   "execution_count": 1,
   "metadata": {},
   "outputs": [
    {
     "name": "stdout",
     "output_type": "stream",
     "text": [
      "정렬 전 --> [78, 7, 51, 40, 48, 9, 69, 60]\n",
      "정렬 후 --> [7, 9, 40, 48, 51, 60, 69, 78]\n"
     ]
    }
   ],
   "source": [
    "import random\n",
    "## 함수\n",
    "def findMinIndex(ary) : # ary에서 제일 작은 위치를 찾기\n",
    "    minIndex = 0\n",
    "    for i in range(1, len(ary)) :\n",
    "        if ( ary[minIndex] > ary[i]) :\n",
    "            minIndex = i\n",
    "    return minIndex\n",
    "\n",
    "## 전역\n",
    "before = [random.randint(1, 100) for _ in range(8)]\n",
    "after = []\n",
    "\n",
    "## 메인\n",
    "print('정렬 전 -->', before)\n",
    "for i in range(len(before)) :\n",
    "    minPos = findMinIndex(before)\n",
    "    after.append(before[minPos])\n",
    "    del(before[minPos])\n",
    "print('정렬 후 -->', after)"
   ]
  },
  {
   "cell_type": "code",
   "execution_count": null,
   "metadata": {},
   "outputs": [],
   "source": []
  }
 ],
 "metadata": {
  "interpreter": {
   "hash": "79235f3c426277640c9689d2572c47b913f40843195eeba115616b689febf123"
  },
  "kernelspec": {
   "display_name": "Python 3.9.7 ('kdig')",
   "language": "python",
   "name": "python3"
  },
  "language_info": {
   "codemirror_mode": {
    "name": "ipython",
    "version": 3
   },
   "file_extension": ".py",
   "mimetype": "text/x-python",
   "name": "python",
   "nbconvert_exporter": "python",
   "pygments_lexer": "ipython3",
   "version": "3.9.7"
  },
  "orig_nbformat": 4
 },
 "nbformat": 4,
 "nbformat_minor": 2
}
