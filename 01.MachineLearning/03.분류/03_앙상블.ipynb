{
  "nbformat": 4,
  "nbformat_minor": 0,
  "metadata": {
    "colab": {
      "name": "03.앙상블.ipynb",
      "provenance": [],
      "collapsed_sections": [
        "i8w8iybrO7yN"
      ]
    },
    "kernelspec": {
      "name": "python3",
      "display_name": "Python 3"
    },
    "language_info": {
      "name": "python"
    }
  },
  "cells": [
    {
      "cell_type": "markdown",
      "source": [
        "### 앙상블(Ensemble) 학습"
      ],
      "metadata": {
        "id": "29pis2YJO3iu"
      }
    },
    {
      "cell_type": "code",
      "source": [
        "from sklearn.datasets import load_breast_cancer\n",
        "cancer = load_breast_cancer()"
      ],
      "metadata": {
        "id": "xDePFrE7Ph0u"
      },
      "execution_count": 1,
      "outputs": []
    },
    {
      "cell_type": "code",
      "source": [
        "from sklearn.preprocessing import MinMaxScaler\n",
        "cancer_scaled = MinMaxScaler().fit_transform(cancer.data)"
      ],
      "metadata": {
        "id": "d90ZYBevPo78"
      },
      "execution_count": 2,
      "outputs": []
    },
    {
      "cell_type": "code",
      "source": [
        "from sklearn.model_selection import train_test_split\n",
        "X_train, X_test, y_train, y_test = train_test_split(\n",
        "    cancer_scaled, cancer.target, stratify=cancer.target,\n",
        "    test_size=0.2, random_state=2022\n",
        ")"
      ],
      "metadata": {
        "id": "7eT14r9JQBYs"
      },
      "execution_count": 3,
      "outputs": []
    },
    {
      "cell_type": "markdown",
      "source": [
        "#### 1. Voting 방식"
      ],
      "metadata": {
        "id": "i8w8iybrO7yN"
      }
    },
    {
      "cell_type": "markdown",
      "source": [
        "##### 1.1 Hard Voting\n",
        "- 로지스틱 회귀\n",
        "- 서포트 벡터 머신\n",
        "- K 최근접 이웃"
      ],
      "metadata": {
        "id": "bzc2rmrHPae1"
      }
    },
    {
      "cell_type": "code",
      "execution_count": 4,
      "metadata": {
        "id": "je9-rT73O1Yl"
      },
      "outputs": [],
      "source": [
        "from sklearn.linear_model import LogisticRegression\n",
        "from sklearn.svm import SVC\n",
        "from sklearn.neighbors import KNeighborsClassifier"
      ]
    },
    {
      "cell_type": "code",
      "source": [
        "lrc = LogisticRegression(random_state=2022)\n",
        "svc = SVC(random_state=2022)\n",
        "knn = KNeighborsClassifier()"
      ],
      "metadata": {
        "id": "hSYpa-9tQzb5"
      },
      "execution_count": 6,
      "outputs": []
    },
    {
      "cell_type": "code",
      "source": [
        "# 하드보팅을 위한 앙상블 분류기\n",
        "from sklearn.ensemble import VotingClassifier\n",
        "voc = VotingClassifier(\n",
        "    estimators=[('LRC', lrc), ('SVC', svc), ('KNN', knn)], voting='hard'\n",
        ")"
      ],
      "metadata": {
        "id": "-jQNdxP_RHuD"
      },
      "execution_count": 7,
      "outputs": []
    },
    {
      "cell_type": "code",
      "source": [
        "voc.fit(X_train, y_train)\n",
        "voc.score(X_test, y_test)"
      ],
      "metadata": {
        "colab": {
          "base_uri": "https://localhost:8080/"
        },
        "id": "YynN63VtRxuJ",
        "outputId": "7ae5bc3c-9608-43bb-aa8c-e7c07b416d45"
      },
      "execution_count": 9,
      "outputs": [
        {
          "output_type": "execute_result",
          "data": {
            "text/plain": [
              "1.0"
            ]
          },
          "metadata": {},
          "execution_count": 9
        }
      ]
    },
    {
      "cell_type": "code",
      "source": [
        "# 개별 분류기의 성능\n",
        "lrc.fit(X_train, y_train)\n",
        "svc.fit(X_train, y_train)\n",
        "knn.fit(X_train, y_train)\n",
        "lrc.score(X_test, y_test), svc.score(X_test, y_test), knn.score(X_test, y_test)"
      ],
      "metadata": {
        "colab": {
          "base_uri": "https://localhost:8080/"
        },
        "id": "0X7pIKG-R3Nw",
        "outputId": "34409151-8e4f-4219-c3b8-3c541a8e8f83"
      },
      "execution_count": 10,
      "outputs": [
        {
          "output_type": "execute_result",
          "data": {
            "text/plain": [
              "(0.9912280701754386, 1.0, 0.9824561403508771)"
            ]
          },
          "metadata": {},
          "execution_count": 10
        }
      ]
    },
    {
      "cell_type": "markdown",
      "source": [
        "##### 1.2 Soft Voting"
      ],
      "metadata": {
        "id": "9JtRhGzLSJe7"
      }
    },
    {
      "cell_type": "markdown",
      "source": [
        "- lrc"
      ],
      "metadata": {
        "id": "F6ni-a5vUKEK"
      }
    },
    {
      "cell_type": "code",
      "source": [
        "# 객체의 속성과 메소드\n",
        "dir(lrc)"
      ],
      "metadata": {
        "id": "2E39OyAFSwlt"
      },
      "execution_count": null,
      "outputs": []
    },
    {
      "cell_type": "code",
      "source": [
        "lrc.predict(X_test[:5])"
      ],
      "metadata": {
        "colab": {
          "base_uri": "https://localhost:8080/"
        },
        "id": "nDW4Al2eS_bE",
        "outputId": "6bebb69f-7329-42e7-e674-b7c51595ea3b"
      },
      "execution_count": 13,
      "outputs": [
        {
          "output_type": "execute_result",
          "data": {
            "text/plain": [
              "array([0, 1, 0, 1, 0])"
            ]
          },
          "metadata": {},
          "execution_count": 13
        }
      ]
    },
    {
      "cell_type": "code",
      "source": [
        "lrc.predict_proba(X_test[:5])"
      ],
      "metadata": {
        "colab": {
          "base_uri": "https://localhost:8080/"
        },
        "id": "RQi9y-fRTnaJ",
        "outputId": "d9ab6985-c224-47de-ef96-eb1e74b7eb5e"
      },
      "execution_count": 14,
      "outputs": [
        {
          "output_type": "execute_result",
          "data": {
            "text/plain": [
              "array([[0.99792166, 0.00207834],\n",
              "       [0.07775117, 0.92224883],\n",
              "       [0.9774613 , 0.0225387 ],\n",
              "       [0.05952966, 0.94047034],\n",
              "       [0.99554778, 0.00445222]])"
            ]
          },
          "metadata": {},
          "execution_count": 14
        }
      ]
    },
    {
      "cell_type": "markdown",
      "source": [
        "- svc"
      ],
      "metadata": {
        "id": "R-t59X4sUIK7"
      }
    },
    {
      "cell_type": "code",
      "source": [
        "svc.predict_proba(X_test[:5])"
      ],
      "metadata": {
        "colab": {
          "base_uri": "https://localhost:8080/",
          "height": 325
        },
        "id": "3IfMfMc6Tsvt",
        "outputId": "9c422240-fe73-4fa8-83d9-67e507f4d7e3"
      },
      "execution_count": 16,
      "outputs": [
        {
          "output_type": "error",
          "ename": "AttributeError",
          "evalue": "ignored",
          "traceback": [
            "\u001b[0;31m---------------------------------------------------------------------------\u001b[0m",
            "\u001b[0;31mAttributeError\u001b[0m                            Traceback (most recent call last)",
            "\u001b[0;32m<ipython-input-16-fa7689064e39>\u001b[0m in \u001b[0;36m<module>\u001b[0;34m()\u001b[0m\n\u001b[0;32m----> 1\u001b[0;31m \u001b[0msvc\u001b[0m\u001b[0;34m.\u001b[0m\u001b[0mpredict_proba\u001b[0m\u001b[0;34m(\u001b[0m\u001b[0mX_test\u001b[0m\u001b[0;34m[\u001b[0m\u001b[0;34m:\u001b[0m\u001b[0;36m5\u001b[0m\u001b[0;34m]\u001b[0m\u001b[0;34m)\u001b[0m\u001b[0;34m\u001b[0m\u001b[0;34m\u001b[0m\u001b[0m\n\u001b[0m",
            "\u001b[0;32m/usr/local/lib/python3.7/dist-packages/sklearn/utils/metaestimators.py\u001b[0m in \u001b[0;36m__get__\u001b[0;34m(self, obj, owner)\u001b[0m\n\u001b[1;32m    107\u001b[0m             \u001b[0;31m# delegate only on instances, not the classes.\u001b[0m\u001b[0;34m\u001b[0m\u001b[0;34m\u001b[0m\u001b[0;34m\u001b[0m\u001b[0m\n\u001b[1;32m    108\u001b[0m             \u001b[0;31m# this is to allow access to the docstrings.\u001b[0m\u001b[0;34m\u001b[0m\u001b[0;34m\u001b[0m\u001b[0;34m\u001b[0m\u001b[0m\n\u001b[0;32m--> 109\u001b[0;31m             \u001b[0;32mif\u001b[0m \u001b[0;32mnot\u001b[0m \u001b[0mself\u001b[0m\u001b[0;34m.\u001b[0m\u001b[0mcheck\u001b[0m\u001b[0;34m(\u001b[0m\u001b[0mobj\u001b[0m\u001b[0;34m)\u001b[0m\u001b[0;34m:\u001b[0m\u001b[0;34m\u001b[0m\u001b[0;34m\u001b[0m\u001b[0m\n\u001b[0m\u001b[1;32m    110\u001b[0m                 \u001b[0;32mraise\u001b[0m \u001b[0mattr_err\u001b[0m\u001b[0;34m\u001b[0m\u001b[0;34m\u001b[0m\u001b[0m\n\u001b[1;32m    111\u001b[0m \u001b[0;34m\u001b[0m\u001b[0m\n",
            "\u001b[0;32m/usr/local/lib/python3.7/dist-packages/sklearn/svm/_base.py\u001b[0m in \u001b[0;36m_check_proba\u001b[0;34m(self)\u001b[0m\n\u001b[1;32m    799\u001b[0m         \u001b[0;32mif\u001b[0m \u001b[0;32mnot\u001b[0m \u001b[0mself\u001b[0m\u001b[0;34m.\u001b[0m\u001b[0mprobability\u001b[0m\u001b[0;34m:\u001b[0m\u001b[0;34m\u001b[0m\u001b[0;34m\u001b[0m\u001b[0m\n\u001b[1;32m    800\u001b[0m             raise AttributeError(\n\u001b[0;32m--> 801\u001b[0;31m                 \u001b[0;34m\"predict_proba is not available when  probability=False\"\u001b[0m\u001b[0;34m\u001b[0m\u001b[0;34m\u001b[0m\u001b[0m\n\u001b[0m\u001b[1;32m    802\u001b[0m             )\n\u001b[1;32m    803\u001b[0m         \u001b[0;32mif\u001b[0m \u001b[0mself\u001b[0m\u001b[0;34m.\u001b[0m\u001b[0m_impl\u001b[0m \u001b[0;32mnot\u001b[0m \u001b[0;32min\u001b[0m \u001b[0;34m(\u001b[0m\u001b[0;34m\"c_svc\"\u001b[0m\u001b[0;34m,\u001b[0m \u001b[0;34m\"nu_svc\"\u001b[0m\u001b[0;34m)\u001b[0m\u001b[0;34m:\u001b[0m\u001b[0;34m\u001b[0m\u001b[0;34m\u001b[0m\u001b[0m\n",
            "\u001b[0;31mAttributeError\u001b[0m: predict_proba is not available when  probability=False"
          ]
        }
      ]
    },
    {
      "cell_type": "code",
      "source": [
        "svc.get_params()"
      ],
      "metadata": {
        "colab": {
          "base_uri": "https://localhost:8080/"
        },
        "id": "OC1uL8woTylR",
        "outputId": "2cf83fb9-6344-46f4-9469-ce3f5944600b"
      },
      "execution_count": 17,
      "outputs": [
        {
          "output_type": "execute_result",
          "data": {
            "text/plain": [
              "{'C': 1.0,\n",
              " 'break_ties': False,\n",
              " 'cache_size': 200,\n",
              " 'class_weight': None,\n",
              " 'coef0': 0.0,\n",
              " 'decision_function_shape': 'ovr',\n",
              " 'degree': 3,\n",
              " 'gamma': 'scale',\n",
              " 'kernel': 'rbf',\n",
              " 'max_iter': -1,\n",
              " 'probability': False,\n",
              " 'random_state': 2022,\n",
              " 'shrinking': True,\n",
              " 'tol': 0.001,\n",
              " 'verbose': False}"
            ]
          },
          "metadata": {},
          "execution_count": 17
        }
      ]
    },
    {
      "cell_type": "code",
      "source": [
        "svc2 = SVC(probability=True, random_state=2022)"
      ],
      "metadata": {
        "id": "6cwesxnOUhGR"
      },
      "execution_count": 18,
      "outputs": []
    },
    {
      "cell_type": "code",
      "source": [
        "svc2.fit(X_train, y_train)"
      ],
      "metadata": {
        "colab": {
          "base_uri": "https://localhost:8080/"
        },
        "id": "TTwU6wsfUlDX",
        "outputId": "977cbd55-e8b8-4efe-cc4c-036babd09892"
      },
      "execution_count": 19,
      "outputs": [
        {
          "output_type": "execute_result",
          "data": {
            "text/plain": [
              "SVC(probability=True, random_state=2022)"
            ]
          },
          "metadata": {},
          "execution_count": 19
        }
      ]
    },
    {
      "cell_type": "code",
      "source": [
        "svc2.predict_proba(X_test[:5])"
      ],
      "metadata": {
        "colab": {
          "base_uri": "https://localhost:8080/"
        },
        "id": "d9-hiuM8UpLr",
        "outputId": "d8ab36e5-7209-43d1-f45d-dbb2f29df813"
      },
      "execution_count": 22,
      "outputs": [
        {
          "output_type": "execute_result",
          "data": {
            "text/plain": [
              "array([[9.99896299e-01, 1.03701492e-04],\n",
              "       [3.84470713e-03, 9.96155293e-01],\n",
              "       [9.99896384e-01, 1.03616009e-04],\n",
              "       [5.97356113e-03, 9.94026439e-01],\n",
              "       [9.99311796e-01, 6.88204061e-04]])"
            ]
          },
          "metadata": {},
          "execution_count": 22
        }
      ]
    },
    {
      "cell_type": "markdown",
      "source": [
        "- KNN"
      ],
      "metadata": {
        "id": "GegWIVk5VJk1"
      }
    },
    {
      "cell_type": "code",
      "source": [
        "knn.predict_proba(X_test[-5:])"
      ],
      "metadata": {
        "colab": {
          "base_uri": "https://localhost:8080/"
        },
        "id": "K5ISf0iAUs5-",
        "outputId": "dcb6dd9b-de20-4f0d-c01e-608c4bfbf580"
      },
      "execution_count": 24,
      "outputs": [
        {
          "output_type": "execute_result",
          "data": {
            "text/plain": [
              "array([[0.8, 0.2],\n",
              "       [1. , 0. ],\n",
              "       [0.8, 0.2],\n",
              "       [0. , 1. ],\n",
              "       [0. , 1. ]])"
            ]
          },
          "metadata": {},
          "execution_count": 24
        }
      ]
    },
    {
      "cell_type": "markdown",
      "source": [
        "- Soft Voting\n",
        "- predict_porba 매서드가 있는지 확인"
      ],
      "metadata": {
        "id": "9IEMM4BMVW7D"
      }
    },
    {
      "cell_type": "code",
      "source": [
        "voc2 = VotingClassifier(\n",
        "    estimators=[('LRC', lrc), ('SVC', svc2), ('KNN', knn)], voting='soft'\n",
        ")"
      ],
      "metadata": {
        "id": "NsxOVKLvVPBC"
      },
      "execution_count": 25,
      "outputs": []
    },
    {
      "cell_type": "code",
      "source": [
        "voc2.fit(X_train, y_train)\n",
        "voc2.score(X_test, y_test)"
      ],
      "metadata": {
        "colab": {
          "base_uri": "https://localhost:8080/"
        },
        "id": "yKVuDzHDVkxi",
        "outputId": "39782380-56e6-487b-8ac8-564dca77c0d3"
      },
      "execution_count": 26,
      "outputs": [
        {
          "output_type": "execute_result",
          "data": {
            "text/plain": [
              "1.0"
            ]
          },
          "metadata": {},
          "execution_count": 26
        }
      ]
    },
    {
      "cell_type": "code",
      "source": [
        "voc2.predict_proba(X_test[:5])"
      ],
      "metadata": {
        "colab": {
          "base_uri": "https://localhost:8080/"
        },
        "id": "lFnZ-RHTVpgz",
        "outputId": "8fbf4a0e-1fdc-47c8-f715-b6a304e1a72b"
      },
      "execution_count": 27,
      "outputs": [
        {
          "output_type": "execute_result",
          "data": {
            "text/plain": [
              "array([[9.99272654e-01, 7.27346212e-04],\n",
              "       [2.71986265e-02, 9.72801374e-01],\n",
              "       [9.92452563e-01, 7.54743719e-03],\n",
              "       [2.18344062e-02, 9.78165594e-01],\n",
              "       [9.98286525e-01, 1.71347474e-03]])"
            ]
          },
          "metadata": {},
          "execution_count": 27
        }
      ]
    },
    {
      "cell_type": "markdown",
      "source": [
        "- GridSearchCV"
      ],
      "metadata": {
        "id": "Vz5_KMeraB-O"
      }
    },
    {
      "cell_type": "code",
      "source": [
        "# lrc와 svc에 똑같은 이름의 parameter 가 존재\n",
        "lrc.C, svc2.C"
      ],
      "metadata": {
        "colab": {
          "base_uri": "https://localhost:8080/"
        },
        "id": "aapTUw9oV3sS",
        "outputId": "8df3202d-d1ab-4031-f562-ba7025a711cd"
      },
      "execution_count": 28,
      "outputs": [
        {
          "output_type": "execute_result",
          "data": {
            "text/plain": [
              "(1.0, 1.0)"
            ]
          },
          "metadata": {},
          "execution_count": 28
        }
      ]
    },
    {
      "cell_type": "code",
      "source": [
        "params = {\n",
        "    'LRC__C': [0.1, 1, 10],\n",
        "    'SVC__C': [0.1, 1, 10]\n",
        "}"
      ],
      "metadata": {
        "id": "wwPXPUq0aOFe"
      },
      "execution_count": 29,
      "outputs": []
    },
    {
      "cell_type": "code",
      "source": [
        "from sklearn.model_selection import GridSearchCV\n",
        "grid_voc2 = GridSearchCV(voc2, params, scoring='accuracy', cv=5)\n",
        "grid_voc2.fit(X_train, y_train)\n",
        "grid_voc2.best_params_"
      ],
      "metadata": {
        "colab": {
          "base_uri": "https://localhost:8080/"
        },
        "id": "SvxA7muWameU",
        "outputId": "aec8ca22-927d-4505-e1d5-9d2acd8907da"
      },
      "execution_count": 30,
      "outputs": [
        {
          "output_type": "execute_result",
          "data": {
            "text/plain": [
              "{'LRC__C': 10, 'SVC__C': 0.1}"
            ]
          },
          "metadata": {},
          "execution_count": 30
        }
      ]
    },
    {
      "cell_type": "code",
      "source": [
        "params = {\n",
        "    'LRC__C': [5, 10, 30],\n",
        "    'SVC__C': [0.05, 0.1, 0.3]\n",
        "}"
      ],
      "metadata": {
        "id": "NzUoDksIbVp6"
      },
      "execution_count": 31,
      "outputs": []
    },
    {
      "cell_type": "code",
      "source": [
        "grid_voc2 = GridSearchCV(voc2, params, scoring='accuracy', cv=5)\n",
        "grid_voc2.fit(X_train, y_train)\n",
        "grid_voc2.best_params_"
      ],
      "metadata": {
        "colab": {
          "base_uri": "https://localhost:8080/"
        },
        "id": "zQI7nxLib3tZ",
        "outputId": "24878a83-874a-4379-8194-d973a71759db"
      },
      "execution_count": 32,
      "outputs": [
        {
          "output_type": "execute_result",
          "data": {
            "text/plain": [
              "{'LRC__C': 10, 'SVC__C': 0.05}"
            ]
          },
          "metadata": {},
          "execution_count": 32
        }
      ]
    },
    {
      "cell_type": "code",
      "source": [
        "grid_voc2.best_estimator_.score(X_test, y_test)"
      ],
      "metadata": {
        "colab": {
          "base_uri": "https://localhost:8080/"
        },
        "id": "ZVjd3BNDb5MW",
        "outputId": "b59753a5-0fcf-4e44-dca8-42dd3d5e3be6"
      },
      "execution_count": 33,
      "outputs": [
        {
          "output_type": "execute_result",
          "data": {
            "text/plain": [
              "1.0"
            ]
          },
          "metadata": {},
          "execution_count": 33
        }
      ]
    },
    {
      "cell_type": "markdown",
      "source": [
        "#### 2. Bagging 방식 - Random Forest"
      ],
      "metadata": {
        "id": "zyO2DWMDcMJ9"
      }
    },
    {
      "cell_type": "code",
      "source": [
        "from sklearn.ensemble import RandomForestClassifier\n",
        "rfc = RandomForestClassifier(random_state=2022)\n",
        "rfc.get_params()"
      ],
      "metadata": {
        "colab": {
          "base_uri": "https://localhost:8080/"
        },
        "id": "5Pj0rDlecLR7",
        "outputId": "c387b5b1-40c7-4252-ff9f-dd5150a2917e"
      },
      "execution_count": 35,
      "outputs": [
        {
          "output_type": "execute_result",
          "data": {
            "text/plain": [
              "{'bootstrap': True,\n",
              " 'ccp_alpha': 0.0,\n",
              " 'class_weight': None,\n",
              " 'criterion': 'gini',\n",
              " 'max_depth': None,\n",
              " 'max_features': 'auto',\n",
              " 'max_leaf_nodes': None,\n",
              " 'max_samples': None,\n",
              " 'min_impurity_decrease': 0.0,\n",
              " 'min_samples_leaf': 1,\n",
              " 'min_samples_split': 2,\n",
              " 'min_weight_fraction_leaf': 0.0,\n",
              " 'n_estimators': 100,\n",
              " 'n_jobs': None,\n",
              " 'oob_score': False,\n",
              " 'random_state': 2022,\n",
              " 'verbose': 0,\n",
              " 'warm_start': False}"
            ]
          },
          "metadata": {},
          "execution_count": 35
        }
      ]
    },
    {
      "cell_type": "code",
      "source": [
        "rfc.fit(X_train, y_train)\n",
        "rfc.score(X_test, y_test)"
      ],
      "metadata": {
        "colab": {
          "base_uri": "https://localhost:8080/"
        },
        "id": "tg5hIritcYck",
        "outputId": "64639d09-7561-4edf-a153-45e6cbf634ab"
      },
      "execution_count": 36,
      "outputs": [
        {
          "output_type": "execute_result",
          "data": {
            "text/plain": [
              "1.0"
            ]
          },
          "metadata": {},
          "execution_count": 36
        }
      ]
    },
    {
      "cell_type": "code",
      "source": [
        ""
      ],
      "metadata": {
        "id": "h6kBNbYrc7xT"
      },
      "execution_count": null,
      "outputs": []
    }
  ]
}