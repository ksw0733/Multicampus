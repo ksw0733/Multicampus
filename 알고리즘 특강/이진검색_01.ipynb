{
 "cells": [
  {
   "cell_type": "code",
   "execution_count": 1,
   "metadata": {},
   "outputs": [
    {
     "name": "stdout",
     "output_type": "stream",
     "text": [
      "배열--> [50, 60, 105, 120, 150, 160, 162, 168, 177, 188]\n",
      "162 가  6  위치에 있음\n"
     ]
    }
   ],
   "source": [
    "## 함수\n",
    "def binarySearch(ary, fData) :\n",
    "    pos = -1\n",
    "    start = 0\n",
    "    end = len(ary) -1\n",
    "\n",
    "    while (start <= end) :\n",
    "        mid = (start + end) // 2\n",
    "        if ary[mid] == fData :\n",
    "            return mid\n",
    "        elif fData > ary[mid] :\n",
    "            start = mid + 1\n",
    "        else :\n",
    "            end = mid - 1\n",
    "\n",
    "    return pos\n",
    "\n",
    "## 전역\n",
    "dataAry = [50, 60, 105, 120, 150, 160, 162, 168, 177, 188]\n",
    "findData = 162 # 할머니키\n",
    "\n",
    "## 메인\n",
    "print('배열-->', dataAry)\n",
    "position = binarySearch(dataAry, findData)\n",
    "if position == -1 :\n",
    "    print(findData, '가 없음....')\n",
    "else :\n",
    "    print(findData, '가 ', position, ' 위치에 있음')"
   ]
  },
  {
   "cell_type": "code",
   "execution_count": null,
   "metadata": {},
   "outputs": [],
   "source": []
  }
 ],
 "metadata": {
  "interpreter": {
   "hash": "79235f3c426277640c9689d2572c47b913f40843195eeba115616b689febf123"
  },
  "kernelspec": {
   "display_name": "Python 3.9.7 ('kdig')",
   "language": "python",
   "name": "python3"
  },
  "language_info": {
   "codemirror_mode": {
    "name": "ipython",
    "version": 3
   },
   "file_extension": ".py",
   "mimetype": "text/x-python",
   "name": "python",
   "nbconvert_exporter": "python",
   "pygments_lexer": "ipython3",
   "version": "3.9.7"
  },
  "orig_nbformat": 4
 },
 "nbformat": 4,
 "nbformat_minor": 2
}
