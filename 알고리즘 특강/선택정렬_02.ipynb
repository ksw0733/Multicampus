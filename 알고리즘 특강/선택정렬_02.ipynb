{
 "cells": [
  {
   "cell_type": "code",
   "execution_count": 1,
   "metadata": {},
   "outputs": [
    {
     "name": "stdout",
     "output_type": "stream",
     "text": [
      "정렬 전 --> [20, 98, 52, 61, 54, 46, 70, 86]\n",
      "정렬 후 --> [20, 46, 52, 54, 61, 70, 86, 98]\n"
     ]
    }
   ],
   "source": [
    "import random\n",
    "## 함수\n",
    "def selctionSort(ary) :\n",
    "    n = len(ary)\n",
    "    for i in range(0, n-1) : # Cycle\n",
    "        minIndex = i\n",
    "        for k in range(i+1, n) :\n",
    "            if (ary[minIndex] > ary[k]) :\n",
    "                minIndex = k\n",
    "\n",
    "        ary[i], ary[minIndex] = ary[minIndex], ary[i]\n",
    "\n",
    "    return ary\n",
    "\n",
    "## 변수\n",
    "dataAry = [random.randint(1, 100) for _ in range(8)]\n",
    "\n",
    "## 메인\n",
    "print('정렬 전 -->', dataAry)\n",
    "dataAry = selctionSort(dataAry) # sorted(배열)\n",
    "print('정렬 후 -->', dataAry)"
   ]
  },
  {
   "cell_type": "code",
   "execution_count": null,
   "metadata": {},
   "outputs": [],
   "source": []
  }
 ],
 "metadata": {
  "interpreter": {
   "hash": "79235f3c426277640c9689d2572c47b913f40843195eeba115616b689febf123"
  },
  "kernelspec": {
   "display_name": "Python 3.9.7 ('kdig')",
   "language": "python",
   "name": "python3"
  },
  "language_info": {
   "codemirror_mode": {
    "name": "ipython",
    "version": 3
   },
   "file_extension": ".py",
   "mimetype": "text/x-python",
   "name": "python",
   "nbconvert_exporter": "python",
   "pygments_lexer": "ipython3",
   "version": "3.9.7"
  },
  "orig_nbformat": 4
 },
 "nbformat": 4,
 "nbformat_minor": 2
}
