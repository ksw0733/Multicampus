{
 "cells": [
  {
   "cell_type": "code",
   "execution_count": 1,
   "metadata": {},
   "outputs": [
    {
     "name": "stdout",
     "output_type": "stream",
     "text": [
      "['커피', '녹차', '꿀물', '콜라', '환타']\n",
      "스택 꽉!\n",
      "['커피', '녹차', '꿀물', '콜라', '환타']\n",
      "추출--> 환타\n",
      "추출--> 콜라\n",
      "추출--> 꿀물\n",
      "['커피', '녹차', None, None, None]\n",
      "다음 나올 데이터--> 녹차\n"
     ]
    }
   ],
   "source": [
    "## 함수\n",
    "def isStackFull() :\n",
    "    global SIZE, stack, top\n",
    "    if (top >= SIZE-1) :\n",
    "        return True\n",
    "    else :\n",
    "        return False\n",
    "\n",
    "def push(data) :\n",
    "    global SIZE, stack, top\n",
    "    if ( isStackFull() ) :\n",
    "        print(\"스택 꽉!\")\n",
    "        return\n",
    "    top += 1\n",
    "    stack[top] = data\n",
    "\n",
    "def isStackEmpty() :\n",
    "    global SIZE, stack, top\n",
    "    if (top <= -1) :\n",
    "        return True\n",
    "    else :\n",
    "        return False\n",
    "\n",
    "def pop() :\n",
    "    global SIZE, stack, top\n",
    "    if ( isStackEmpty() ) :\n",
    "        print(\"스택 텅~\")\n",
    "        return None\n",
    "    data = stack[top]\n",
    "    stack[top] = None\n",
    "    top -= 1\n",
    "    return data\n",
    "\n",
    "def peek() :\n",
    "    global SIZE, stack, top\n",
    "    if ( isStackEmpty() ) :\n",
    "        print(\"스택 텅~\")\n",
    "        return None\n",
    "    return stack[top]\n",
    "\n",
    "## 전역\n",
    "SIZE = 5 # 스택의 크기\n",
    "stack = [ None for _ in range(SIZE)]\n",
    "top = -1\n",
    "\n",
    "## 메인\n",
    "push('커피')\n",
    "push('녹차')\n",
    "push('꿀물')\n",
    "push('콜라')\n",
    "push('환타')\n",
    "\n",
    "print(stack)\n",
    "\n",
    "push('사이다')\n",
    "print(stack)\n",
    "\n",
    "retData = pop()\n",
    "print('추출-->', retData)\n",
    "retData = pop()\n",
    "print('추출-->', retData)\n",
    "retData = pop()\n",
    "print('추출-->', retData)\n",
    "print(stack)\n",
    "\n",
    "print('다음 나올 데이터-->', peek())"
   ]
  },
  {
   "cell_type": "code",
   "execution_count": null,
   "metadata": {},
   "outputs": [],
   "source": []
  }
 ],
 "metadata": {
  "interpreter": {
   "hash": "79235f3c426277640c9689d2572c47b913f40843195eeba115616b689febf123"
  },
  "kernelspec": {
   "display_name": "Python 3.9.7 ('kdig')",
   "language": "python",
   "name": "python3"
  },
  "language_info": {
   "codemirror_mode": {
    "name": "ipython",
    "version": 3
   },
   "file_extension": ".py",
   "mimetype": "text/x-python",
   "name": "python",
   "nbconvert_exporter": "python",
   "pygments_lexer": "ipython3",
   "version": "3.9.7"
  },
  "orig_nbformat": 4
 },
 "nbformat": 4,
 "nbformat_minor": 2
}
