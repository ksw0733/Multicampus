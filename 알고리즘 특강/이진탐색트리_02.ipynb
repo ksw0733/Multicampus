{
 "cells": [
  {
   "cell_type": "code",
   "execution_count": 1,
   "metadata": {},
   "outputs": [
    {
     "name": "stdout",
     "output_type": "stream",
     "text": [
      "이진 탐색 트리 구성 완료!\n",
      "마마무  찾음 ^^\n"
     ]
    }
   ],
   "source": [
    "## 함수\n",
    "class TreeNode() :\n",
    "    def __init__(self):\n",
    "        self.left = None\n",
    "        self.data = None\n",
    "        self.right = None\n",
    "\n",
    "## 전역\n",
    "memory = []\n",
    "root = None\n",
    "nameAry = ['블랙핑크', '레드벨벳', '마마무', '에이핑크', '걸스데이', '트와이스']\n",
    "\n",
    "## 메인\n",
    "# 루트 노드 만들기\n",
    "node = TreeNode()\n",
    "node.data = nameAry[0]\n",
    "root = node\n",
    "memory.append(node)\n",
    "\n",
    "for name in nameAry[1:] : # ['레드벨벳', '마마무',.... ]\n",
    "    node = TreeNode()\n",
    "    node.data = name\n",
    "\n",
    "    current = root # root 10이고, name이 6\n",
    "    while True :\n",
    "        if name < current.data :\n",
    "            if current.left == None :\n",
    "                current.left = node\n",
    "                break\n",
    "            current = current.left\n",
    "        else :\n",
    "            if current.right == None :\n",
    "                current.right = node\n",
    "                break\n",
    "            current = current.right\n",
    "\n",
    "    memory.append(node)\n",
    "\n",
    "print('이진 탐색 트리 구성 완료!')\n",
    "\n",
    "findData = '마마무'\n",
    "\n",
    "current = root\n",
    "while True :\n",
    "    if findData == current.data :\n",
    "        print(findData, \" 찾음 ^^\")\n",
    "        break\n",
    "    elif findData < current.data :\n",
    "        if current.left == None :\n",
    "            print(findData, \" 없음 ㅠㅠ\")\n",
    "            break\n",
    "        current = current.left\n",
    "    else :\n",
    "        if current.right == None :\n",
    "            print(findData, \" 없음 ㅠㅠ\")\n",
    "            break\n",
    "        current = current.right"
   ]
  },
  {
   "cell_type": "code",
   "execution_count": null,
   "metadata": {},
   "outputs": [],
   "source": []
  }
 ],
 "metadata": {
  "interpreter": {
   "hash": "79235f3c426277640c9689d2572c47b913f40843195eeba115616b689febf123"
  },
  "kernelspec": {
   "display_name": "Python 3.9.7 ('kdig')",
   "language": "python",
   "name": "python3"
  },
  "language_info": {
   "codemirror_mode": {
    "name": "ipython",
    "version": 3
   },
   "file_extension": ".py",
   "mimetype": "text/x-python",
   "name": "python",
   "nbconvert_exporter": "python",
   "pygments_lexer": "ipython3",
   "version": "3.9.7"
  },
  "orig_nbformat": 4
 },
 "nbformat": 4,
 "nbformat_minor": 2
}
