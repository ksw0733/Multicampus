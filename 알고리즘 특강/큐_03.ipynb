{
 "cells": [
  {
   "cell_type": "code",
   "execution_count": 1,
   "metadata": {},
   "outputs": [
    {
     "name": "stdout",
     "output_type": "stream",
     "text": [
      "출구<-- ['화사', '솔라', '문별', '휘인', '선미'] <--입구\n",
      "디큐 ==>  화사\n",
      "디큐 ==>  솔라\n",
      "출구<-- [None, None, '문별', '휘인', '선미'] <--입구\n",
      "출구<-- [None, '문별', '휘인', '선미', '재남'] <--입구\n",
      "출구<-- ['문별', '휘인', '선미', '재남', '길동'] <--입구\n",
      "큐 꽉!\n",
      "출구<-- ['문별', '휘인', '선미', '재남', '길동'] <--입구\n"
     ]
    }
   ],
   "source": [
    "## 함수\n",
    "def isQueueFull() :\n",
    "    global SIZE, queue, front, rear\n",
    "    if (rear != SIZE-1) :\n",
    "        return False\n",
    "    elif (rear == SIZE-1 and front == -1) :\n",
    "        return True\n",
    "    else :\n",
    "        for i in range(front+1, SIZE, 1) :\n",
    "            queue[i-1] = queue[i]\n",
    "            queue[i] = None\n",
    "        front -= 1\n",
    "        rear -= 1\n",
    "        return False\n",
    "\n",
    "def enQueue(data) :\n",
    "    global SIZE, queue, front, rear\n",
    "    if (isQueueFull()) :\n",
    "        print('큐 꽉!')\n",
    "        return\n",
    "    rear += 1\n",
    "    queue[rear] = data\n",
    "\n",
    "def isQueueEmpty() :\n",
    "    global SIZE, queue, front, rear\n",
    "    if (front == rear) :\n",
    "        return True\n",
    "    else :\n",
    "        return False\n",
    "\n",
    "def deQueue() :\n",
    "    global SIZE, queue, front, rear\n",
    "    if (isQueueEmpty()) :\n",
    "        print('큐 텅~~')\n",
    "        return None\n",
    "    front += 1\n",
    "    data = queue[front]\n",
    "    queue[front] = None\n",
    "    return data\n",
    "\n",
    "def peek() :\n",
    "    global SIZE, queue, front, rear\n",
    "    if (isQueueEmpty()) :\n",
    "        print('큐 텅~~')\n",
    "        return None\n",
    "    return queue[front+1]\n",
    "\n",
    "## 전역\n",
    "SIZE = 5\n",
    "queue = [None for _ in range(SIZE)]\n",
    "front = rear = -1\n",
    "\n",
    "## 메인\n",
    "\n",
    "enQueue('화사')\n",
    "enQueue('솔라')\n",
    "enQueue('문별')\n",
    "enQueue('휘인')\n",
    "enQueue('선미') # 원더걸스\n",
    "print('출구<--', queue, '<--입구')\n",
    "\n",
    "retData = deQueue()\n",
    "print(\"디큐 ==> \", retData)\n",
    "retData = deQueue()\n",
    "print(\"디큐 ==> \", retData)\n",
    "print('출구<--', queue, '<--입구')\n",
    "\n",
    "enQueue('재남')\n",
    "print('출구<--', queue, '<--입구')\n",
    "\n",
    "enQueue('길동')\n",
    "print('출구<--', queue, '<--입구')\n",
    "\n",
    "enQueue('소희')\n",
    "print('출구<--', queue, '<--입구')"
   ]
  },
  {
   "cell_type": "code",
   "execution_count": null,
   "metadata": {},
   "outputs": [],
   "source": []
  }
 ],
 "metadata": {
  "interpreter": {
   "hash": "79235f3c426277640c9689d2572c47b913f40843195eeba115616b689febf123"
  },
  "kernelspec": {
   "display_name": "Python 3.9.7 ('kdig')",
   "language": "python",
   "name": "python3"
  },
  "language_info": {
   "codemirror_mode": {
    "name": "ipython",
    "version": 3
   },
   "file_extension": ".py",
   "mimetype": "text/x-python",
   "name": "python",
   "nbconvert_exporter": "python",
   "pygments_lexer": "ipython3",
   "version": "3.9.7"
  },
  "orig_nbformat": 4
 },
 "nbformat": 4,
 "nbformat_minor": 2
}
