{
 "cells": [
  {
   "cell_type": "code",
   "execution_count": 1,
   "metadata": {},
   "outputs": [
    {
     "name": "stdout",
     "output_type": "stream",
     "text": [
      "1311406 가  131368  위치에 있음( 17 회)\n"
     ]
    }
   ],
   "source": [
    "import random\n",
    "## 함수\n",
    "def binarySearch(ary, fData) :\n",
    "    pos = -1\n",
    "    start = 0\n",
    "    end = len(ary) -1\n",
    "\n",
    "    count = 0\n",
    "    while (start <= end) :\n",
    "        count += 1\n",
    "        mid = (start + end) // 2\n",
    "        if ary[mid] == fData :\n",
    "            return mid, count\n",
    "        elif fData > ary[mid] :\n",
    "            start = mid + 1\n",
    "        else :\n",
    "            end = mid - 1\n",
    "\n",
    "    return pos, count\n",
    "\n",
    "## 전역\n",
    "dataAry = [random.randint(1, 10000000) for _ in range(1000000)]\n",
    "findData = random.choice(dataAry)\n",
    "dataAry.sort()\n",
    "\n",
    "## 메인\n",
    "#print('배열-->', dataAry)\n",
    "position, cnt = binarySearch(dataAry, findData)\n",
    "if position == -1 :\n",
    "    print(findData, '가 없음....')\n",
    "else :\n",
    "    print(findData, '가 ', position, ' 위치에 있음(', cnt , '회)')"
   ]
  },
  {
   "cell_type": "code",
   "execution_count": null,
   "metadata": {},
   "outputs": [],
   "source": []
  }
 ],
 "metadata": {
  "interpreter": {
   "hash": "79235f3c426277640c9689d2572c47b913f40843195eeba115616b689febf123"
  },
  "kernelspec": {
   "display_name": "Python 3.9.7 ('kdig')",
   "language": "python",
   "name": "python3"
  },
  "language_info": {
   "codemirror_mode": {
    "name": "ipython",
    "version": 3
   },
   "file_extension": ".py",
   "mimetype": "text/x-python",
   "name": "python",
   "nbconvert_exporter": "python",
   "pygments_lexer": "ipython3",
   "version": "3.9.7"
  },
  "orig_nbformat": 4
 },
 "nbformat": 4,
 "nbformat_minor": 2
}
