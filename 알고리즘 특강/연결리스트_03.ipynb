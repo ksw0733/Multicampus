{
 "cells": [
  {
   "cell_type": "markdown",
   "metadata": {},
   "source": [
    "- 연결리스트 삽입"
   ]
  },
  {
   "cell_type": "code",
   "execution_count": 1,
   "metadata": {},
   "outputs": [
    {
     "name": "stdout",
     "output_type": "stream",
     "text": [
      "다현  정연  쯔위  사나  지효  \n",
      "다현  정연  쯔위  사나  지효  문별  \n"
     ]
    }
   ],
   "source": [
    "## 함수\n",
    "class Node() :\n",
    "    def __init__(self):\n",
    "        self.data = None\n",
    "        self.link = None\n",
    "\n",
    "def printNodes(start) :\n",
    "    current = start\n",
    "    print(current.data, end='  ')\n",
    "    while (current.link != None):\n",
    "        current = current.link\n",
    "        print(current.data, end='  ')\n",
    "    print()\n",
    "\n",
    "def insertNode(findData, insertDate) :\n",
    "    global  memory, head, pre, current\n",
    "    # 첫 노드 앞에 삽입....  예 : 다현, 화사\n",
    "    if findData == head.data :\n",
    "        node = Node()\n",
    "        node.data = insertDate\n",
    "        node.link = head\n",
    "        head = node\n",
    "        memory.append(node)\n",
    "        return\n",
    "    # 중간 노드 삽입.... 예 : 사나, 솔라\n",
    "    current = head\n",
    "    while current.link != None :\n",
    "        pre = current\n",
    "        current = current.link\n",
    "        if current.data == findData :\n",
    "            node = Node()\n",
    "            node.data = insertDate\n",
    "            node.link = current\n",
    "            pre.link = node\n",
    "            memory.append(node)\n",
    "            return\n",
    "    # 마지막 노드 삽입 (=findData 없음).. 예: 재남, 문별\n",
    "    node = Node()\n",
    "    node.data = insertDate\n",
    "    current.link = node\n",
    "    memory.append(node)\n",
    "    return\n",
    "\n",
    "## 전역\n",
    "memory = []\n",
    "head, pre, current = None, None, None\n",
    "dataArray = ['다현', '정연', '쯔위', '사나', '지효']\n",
    "\n",
    "## 메인\n",
    "node = Node() # 첫 노드\n",
    "node.data = dataArray[0]\n",
    "head = node\n",
    "memory.append(node)\n",
    "\n",
    "for data in dataArray[1:] :  # ['정연', '쯔위', ..... ]\n",
    "    pre = node\n",
    "    node = Node()\n",
    "    node.data = data\n",
    "    pre.link = node\n",
    "    memory.append(node)\n",
    "\n",
    "printNodes(head)\n",
    "\n",
    "#insertNode('다현', '화사')\n",
    "#printNodes(head)\n",
    "\n",
    "# insertNode('사나', '솔라')\n",
    "# printNodes(head)\n",
    "\n",
    "insertNode('재남', '문별')\n",
    "printNodes(head)"
   ]
  },
  {
   "cell_type": "code",
   "execution_count": null,
   "metadata": {},
   "outputs": [],
   "source": []
  }
 ],
 "metadata": {
  "interpreter": {
   "hash": "79235f3c426277640c9689d2572c47b913f40843195eeba115616b689febf123"
  },
  "kernelspec": {
   "display_name": "Python 3.9.7 ('kdig')",
   "language": "python",
   "name": "python3"
  },
  "language_info": {
   "codemirror_mode": {
    "name": "ipython",
    "version": 3
   },
   "file_extension": ".py",
   "mimetype": "text/x-python",
   "name": "python",
   "nbconvert_exporter": "python",
   "pygments_lexer": "ipython3",
   "version": "3.9.7"
  },
  "orig_nbformat": 4
 },
 "nbformat": 4,
 "nbformat_minor": 2
}
