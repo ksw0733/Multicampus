{
 "cells": [
  {
   "cell_type": "code",
   "execution_count": 1,
   "metadata": {},
   "outputs": [
    {
     "name": "stdout",
     "output_type": "stream",
     "text": [
      "출구<-- ['화사', '솔라', '문별', None, None] <--입구\n",
      "식사 손님 :  화사\n",
      "식사 손님 :  솔라\n",
      "식사 손님 :  문별\n",
      "출구<-- [None, None, None, None, None] <--입구\n"
     ]
    }
   ],
   "source": [
    "## 함수\n",
    "\n",
    "\n",
    "## 전역\n",
    "SIZE = 5\n",
    "queue = [None for _ in range(SIZE)]\n",
    "front = rear = -1\n",
    "\n",
    "## 메인\n",
    "\n",
    "# enQueue()\n",
    "rear += 1\n",
    "queue[rear] = '화사'\n",
    "rear += 1\n",
    "queue[rear] = '솔라'\n",
    "rear += 1\n",
    "queue[rear] = '문별'\n",
    "\n",
    "print('출구<--', queue, '<--입구')\n",
    "\n",
    "# deQueue()\n",
    "front += 1\n",
    "data = queue[front]\n",
    "queue[front] = None\n",
    "print('식사 손님 : ', data)\n",
    "front += 1\n",
    "data = queue[front]\n",
    "queue[front] = None\n",
    "print('식사 손님 : ', data)\n",
    "front += 1\n",
    "data = queue[front]\n",
    "queue[front] = None\n",
    "print('식사 손님 : ', data)\n",
    "\n",
    "print('출구<--', queue, '<--입구')"
   ]
  },
  {
   "cell_type": "code",
   "execution_count": null,
   "metadata": {},
   "outputs": [],
   "source": []
  }
 ],
 "metadata": {
  "interpreter": {
   "hash": "79235f3c426277640c9689d2572c47b913f40843195eeba115616b689febf123"
  },
  "kernelspec": {
   "display_name": "Python 3.9.7 ('kdig')",
   "language": "python",
   "name": "python3"
  },
  "language_info": {
   "codemirror_mode": {
    "name": "ipython",
    "version": 3
   },
   "file_extension": ".py",
   "mimetype": "text/x-python",
   "name": "python",
   "nbconvert_exporter": "python",
   "pygments_lexer": "ipython3",
   "version": "3.9.7"
  },
  "orig_nbformat": 4
 },
 "nbformat": 4,
 "nbformat_minor": 2
}
